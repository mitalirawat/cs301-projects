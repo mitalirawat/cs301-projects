{
 "cells": [
  {
   "cell_type": "code",
   "execution_count": 1,
   "metadata": {},
   "outputs": [],
   "source": [
    "import pandas as pd\n",
    "import numpy as np\n",
    "import matplotlib.pyplot as plt"
   ]
  },
  {
   "cell_type": "markdown",
   "metadata": {},
   "source": [
    "## Getting Started\n",
    "* get from the url\n",
    "* store in DB\n",
    "* retrieve from DB and filter-> store in csv\n",
    "* read from csv OR directly load from json in the response\n",
    "* #df = pd.DataFrame(d,columns=['Name','Age','Score'])\n"
   ]
  },
  {
   "cell_type": "code",
   "execution_count": 2,
   "metadata": {},
   "outputs": [],
   "source": [
    "country_data = pd.read_csv('capitals_and_data.csv')\n",
    "country_capitals = pd.read_csv('country-capitals.csv')"
   ]
  },
  {
   "cell_type": "code",
   "execution_count": 15,
   "metadata": {},
   "outputs": [],
   "source": [
    "print(country_data)\n",
    "print(country_capitals)\n"
   ]
  },
  {
   "cell_type": "markdown",
   "metadata": {},
   "source": [
    "\n",
    "\n",
    "## merge the two datasets using pandas\n",
    "* needs renaming CapitalName column to Capital"
   ]
  },
  {
   "cell_type": "code",
   "execution_count": 16,
   "metadata": {},
   "outputs": [],
   "source": [
    "country_capitals.rename(columns={'CapitalName':'Capital'}, inplace=True)\n",
    "result = pd.merge(country_capitals, country_data, on='Capital', how='inner', validate=None)\n",
    "#result.rename(columns={'Literacy (%)':'Literacy'}, inplace=True)\n",
    "result"
   ]
  },
  {
   "cell_type": "markdown",
   "metadata": {},
   "source": [
    "## Do CRUD operations on data\n",
    "* add a row\n",
    "* drop some rows based on a condition\n",
    "* modify rows based on condition\n"
   ]
  },
  {
   "cell_type": "code",
   "execution_count": 21,
   "metadata": {
    "scrolled": true
   },
   "outputs": [],
   "source": [
    "#data drop\n",
    "#result = result[result.Population>28748]\n",
    "result.drop((result.Population>28748).index)\n",
    "result\n",
    "#result['Population'].min()"
   ]
  },
  {
   "cell_type": "markdown",
   "metadata": {},
   "source": [
    "## data cleaning\n",
    "* replace \",\" with \".\" in literacy\n",
    "\n",
    "## find properties in the data using Numpy\n",
    "* mean and standard deviation of literacy\n",
    "* correlation coefficient between GDP and literacy"
   ]
  },
  {
   "cell_type": "code",
   "execution_count": 22,
   "metadata": {},
   "outputs": [],
   "source": [
    "#statistical properties of data- mean and std dev\n",
    "result.rename(columns={'Literacy (%)':'Literacy'}, inplace=True)\n",
    "# df1 = result[result.Literacy!=None]\n",
    "lit = [float(str(i).replace(',','.')) for i in list(result['Literacy'])]\n",
    "lit"
   ]
  },
  {
   "cell_type": "code",
   "execution_count": 7,
   "metadata": {},
   "outputs": [],
   "source": [
    "gdp  = result['GDP ($ per capita)']"
   ]
  },
  {
   "cell_type": "code",
   "execution_count": 8,
   "metadata": {},
   "outputs": [
    {
     "data": {
      "text/plain": [
       "82.30055555555555"
      ]
     },
     "execution_count": 8,
     "metadata": {},
     "output_type": "execute_result"
    }
   ],
   "source": [
    "np.mean(lit)"
   ]
  },
  {
   "cell_type": "code",
   "execution_count": 9,
   "metadata": {},
   "outputs": [
    {
     "data": {
      "text/plain": [
       "20.1152029216771"
      ]
     },
     "execution_count": 9,
     "metadata": {},
     "output_type": "execute_result"
    }
   ],
   "source": [
    "np.std(lit)"
   ]
  },
  {
   "cell_type": "code",
   "execution_count": 10,
   "metadata": {},
   "outputs": [
    {
     "name": "stdout",
     "output_type": "stream",
     "text": [
      "[[1.         0.52209966]\n",
      " [0.52209966 1.        ]]\n"
     ]
    }
   ],
   "source": [
    "print(np.corrcoef(result['GDP ($ per capita)'], lit))"
   ]
  },
  {
   "cell_type": "markdown",
   "metadata": {},
   "source": [
    "Plotting\n",
    "* Plot histogram of GDP\n",
    "* Plot histogram of literacy\n",
    "* scatter plot of literacy vs GDP"
   ]
  },
  {
   "cell_type": "code",
   "execution_count": 11,
   "metadata": {},
   "outputs": [
    {
     "data": {
      "image/png": "[encoded data removed]",
      "text/plain": [
       "<Figure size 432x288 with 1 Axes>"
      ]
     },
     "metadata": {
      "needs_background": "light"
     },
     "output_type": "display_data"
    }
   ],
   "source": [
    "plt.hist(result['GDP ($ per capita)'],  edgecolor ='w')\n",
    "plt.show()"
   ]
  },
  {
   "cell_type": "code",
   "execution_count": 12,
   "metadata": {},
   "outputs": [
    {
     "data": {
      "image/png": "[encoded data removed]",
      "text/plain": [
       "<Figure size 432x288 with 1 Axes>"
      ]
     },
     "metadata": {
      "needs_background": "light"
     },
     "output_type": "display_data"
    }
   ],
   "source": [
    "plt.hist(lit, color = 'b', edgecolor ='w')\n",
    "plt.show()"
   ]
  },
  {
   "cell_type": "code",
   "execution_count": 13,
   "metadata": {},
   "outputs": [
    {
     "data": {
      "image/png": "[encoded data removed]",
      "text/plain": [
       "<Figure size 432x288 with 1 Axes>"
      ]
     },
     "metadata": {
      "needs_background": "light"
     },
     "output_type": "display_data"
    }
   ],
   "source": [
    "plt.scatter(lit, gdp)\n",
    "plt.xlabel('Literacy rate')\n",
    "plt.ylabel('GDP')\n",
    "plt.show()"
   ]
  },
  {
   "cell_type": "markdown",
   "metadata": {},
   "source": [
    "## some more analysis\n",
    "*standard deviation of of GDP grouped by continent"
   ]
  },
  {
   "cell_type": "code",
   "execution_count": 14,
   "metadata": {},
   "outputs": [
    {
     "data": {
      "text/plain": [
       "ContinentName\n",
       "Africa              2809.670957\n",
       "Asia                8228.979132\n",
       "Australia          11463.829884\n",
       "Central America    11964.622093\n",
       "Europe             11909.194761\n",
       "North America      12793.188884\n",
       "South America       3329.334723\n",
       "Name: GDP ($ per capita), dtype: float64"
      ]
     },
     "execution_count": 14,
     "metadata": {},
     "output_type": "execute_result"
    }
   ],
   "source": [
    "result.groupby('ContinentName')['GDP ($ per capita)'].std()"
   ]
  },
  {
   "cell_type": "code",
   "execution_count": null,
   "metadata": {},
   "outputs": [],
   "source": []
  }
 ],
 "metadata": {
  "kernelspec": {
   "display_name": "Python 3",
   "language": "python",
   "name": "python3"
  },
  "language_info": {
   "codemirror_mode": {
    "name": "ipython",
    "version": 3
   },
   "file_extension": ".py",
   "mimetype": "text/x-python",
   "name": "python",
   "nbconvert_exporter": "python",
   "pygments_lexer": "ipython3",
   "version": "3.7.0"
  }
 },
 "nbformat": 4,
 "nbformat_minor": 2
}
